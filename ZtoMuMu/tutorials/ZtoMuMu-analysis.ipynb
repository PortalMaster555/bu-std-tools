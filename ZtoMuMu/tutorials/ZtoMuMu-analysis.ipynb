{
 "cells": [
  {
   "cell_type": "code",
   "execution_count": 2,
   "id": "1aea6cb6",
   "metadata": {},
   "outputs": [],
   "source": [
    "import ROOT\n",
    "import os\n",
    "#os.system('pushd /cvmfs/cms.cern.ch/slc7_amd64_gcc10/cms/cmssw/CMSSW_12_6_0/src/;cmsenv; pushd')"
   ]
  },
  {
   "cell_type": "code",
   "execution_count": 4,
   "id": "27cde94a",
   "metadata": {},
   "outputs": [],
   "source": [
    "class histogramHandler():\n",
    "    \n",
    "    def __init__(self):\n",
    "        \n",
    "        self.h1s = []\n",
    "        self.h1names = []\n",
    "        self.h1axis = []\n",
    "        self.nh1 = 0\n",
    "        \n",
    "    def initStyle(self):\n",
    "        \n",
    "        ROOT.gStyle\n",
    "        \n",
    "    def addHistogram(self, h, name, axis):\n",
    "\n",
    "        self.h1s.append(h)\n",
    "        self.h1names.append(name)\n",
    "        self.h1axis.append(axis)\n",
    "        #self.h1s[-1].SetMarkerStyle(20)\n",
    "        self.h1s[-1].SetLineWidth(2)\n",
    "        self.nh1+=1\n",
    "        \n",
    "    def plotHistograms(self, ylog):\n",
    "        \n",
    "        for h in range(0, self.nh1):\n",
    "            c1 = ROOT.TCanvas('c1', '', 1000, 900)\n",
    "            c1.SetLogy(ylog)\n",
    "            self.h1s[h].GetXaxis().SetTitle(self.h1axis[h])\n",
    "            self.h1s[h].Draw('PE')\n",
    "            c1.SaveAs(self.h1names[h] + '.png')"
   ]
  },
  {
   "cell_type": "code",
   "execution_count": 6,
   "id": "3544ad10",
   "metadata": {},
   "outputs": [],
   "source": [
    "# Read the file\n",
    "file = ROOT.TFile.Open(\"/eos/user/f/fernance/standard-TutoriasFiles/43718dea-5cd4-48a7-b73b-df168edf1fac.root\")\n",
    "tree = file.Get('Events')"
   ]
  },
  {
   "cell_type": "code",
   "execution_count": 7,
   "id": "d6427c80",
   "metadata": {},
   "outputs": [
    {
     "data": {
      "text/plain": [
       "True"
      ]
     },
     "execution_count": 7,
     "metadata": {},
     "output_type": "execute_result"
    }
   ],
   "source": [
    "tree.SetAlias('Dimuon_mass', 'sqrt(2*Muon_pt[0]*Muon_pt[1]*(cosh(Muon_eta[0] - Muon_eta[1]) - cos(Muon_phi[0] - Muon_phi[1])))')"
   ]
  },
  {
   "cell_type": "code",
   "execution_count": 8,
   "id": "3a66c85d",
   "metadata": {},
   "outputs": [],
   "source": [
    "h_muonpt = ROOT.TH1F('h_muonpt', '', 100, 0, 100)\n",
    "h_dimuonmass = ROOT.TH1F('h_dimuonmass', '', 100, 0, 140)"
   ]
  },
  {
   "cell_type": "code",
   "execution_count": 9,
   "id": "fd158abb",
   "metadata": {},
   "outputs": [
    {
     "data": {
      "text/plain": [
       "334196"
      ]
     },
     "execution_count": 9,
     "metadata": {},
     "output_type": "execute_result"
    }
   ],
   "source": [
    "tree.Project('h_muonpt', 'Muon_pt', 'nMuon > 1')\n",
    "tree.Project('h_dimuonmass', 'Dimuon_mass', 'nMuon > 1')"
   ]
  },
  {
   "cell_type": "code",
   "execution_count": 10,
   "id": "6f144082",
   "metadata": {},
   "outputs": [],
   "source": [
    "histograms = histogramHandler()\n",
    "histograms.addHistogram(h_muonpt, 'h_muonpt', 'Muon p_{T} (GeV)')\n",
    "histograms.addHistogram(h_dimuonmass, 'h_dimuonmass', 'Dimuon mass (GeV)')"
   ]
  },
  {
   "cell_type": "code",
   "execution_count": null,
   "id": "39fb962a",
   "metadata": {},
   "outputs": [],
   "source": [
    "histograms.plotHistograms(True)"
   ]
  },
  {
   "cell_type": "code",
   "execution_count": 1,
   "id": "c0891960",
   "metadata": {},
   "outputs": [
    {
     "data": {
      "image/png": "[encoded data removed]",
      "text/plain": [
       "<IPython.core.display.Image object>"
      ]
     },
     "metadata": {},
     "output_type": "display_data"
    }
   ],
   "source": [
    "from IPython.display import Image\n",
    "display(Image(filename=\"h_muonpt.png\"))"
   ]
  },
  {
   "cell_type": "code",
   "execution_count": null,
   "id": "eb0e3bc3",
   "metadata": {},
   "outputs": [],
   "source": []
  }
 ],
 "metadata": {
  "@webio": {
   "lastCommId": null,
   "lastKernelId": null
  },
  "kernelspec": {
   "display_name": "Python 3",
   "language": "python",
   "name": "python3"
  },
  "language_info": {
   "codemirror_mode": {
    "name": "ipython",
    "version": 3
   },
   "file_extension": ".py",
   "mimetype": "text/x-python",
   "name": "python",
   "nbconvert_exporter": "python",
   "pygments_lexer": "ipython3",
   "version": "3.11.9"
  }
 },
 "nbformat": 4,
 "nbformat_minor": 5
}
